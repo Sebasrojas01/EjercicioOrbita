{
  "nbformat": 4,
  "nbformat_minor": 0,
  "metadata": {
    "colab": {
      "provenance": []
    },
    "kernelspec": {
      "name": "python3",
      "display_name": "Python 3"
    },
    "language_info": {
      "name": "python"
    }
  },
  "cells": [
    {
      "cell_type": "markdown",
      "source": [
        "<p align = center  \n",
        "<br>\n",
        "<img src=\"https://res-5.cloudinary.com/crunchbase-production/image/upload/c_lpad,h_256,w_256,f_auto,q_auto:eco/v1455514364/pim02bzqvgz0hibsra41.png\" align=\"center\"><br><FONT FACE=\"times new roman\" SIZE=5>\n",
        "<b>Medida de rendimiento Cython/Python: Problema Planeta en Orbita </b>\n",
        "<br>\n",
        "<i><b>Autor:</b></i> Juan Sebastián Rojas Acevedo - 8º semestre\n",
        "<br>\n",
        "<i><b>Fecha: </b>01/11/2022\n",
        "<br>\n",
        "<b>Ciencias de la computación e Inteligencia Artificial</b></i>\n",
        "<br>\n",
        "</FONT>\n",
        "</p>"
      ],
      "metadata": {
        "id": "d6_FtOLK10CO"
      }
    },
    {
      "cell_type": "markdown",
      "source": [
        "# Python y Cython ¿Qué son?\n",
        "\n",
        "* Python es un lenguaje de programación muy utilizado hoy en día, entre otras razones por que es cómodo para programar a alto nivel, tiene muchas librerías y es un código fácilmente mantenible. A pesar de todas estas ventajas, cabe destacar que es notoriamente lento, por lo que es conveniente conocer algunas herramientas que permitan acelerar el código Python.\n",
        "\n",
        "* Cython es un lenguaje que se escribe de forma muy similar a Python, pero permite la utilización de librerías y variables de tipo C. Por tanto, se puede conseguir la velocidad de C manteniendo la simplicidad de sintaxis proporcionada por Python. Además, una de sus grandes versatilidades es que se pueden mezclar definiciones explícitas de variables C con variables de Python, como pueden ser los diccionarios.\n",
        "\n",
        "* Sin embargo, programar en Cython también comporta una serie de inconvenientes, como la necesidad de compilar el código por separado antes de ejecutar el programa. También está el hecho de que comparado con lenguajes como C o Fortran, no tiene un soporte tan bueno para la paralelización de memoria."
      ],
      "metadata": {
        "id": "DxjuFxJtwrKU"
      }
    },
    {
      "cell_type": "code",
      "source": [
        "import pandas as pd\n",
        "import numpy as np\n",
        "import matplotlib.pyplot as plt"
      ],
      "metadata": {
        "id": "ACmEMJLxqVlE"
      },
      "execution_count": 21,
      "outputs": []
    },
    {
      "cell_type": "markdown",
      "source": [
        "#Primera Parte\n",
        "* Se realiza un experimento en los lenguajes de programación Python y Cython en el cual consiste calcular la orbita de un planeta, en este caso el planeta tierra. Se quiere analizar el tiempo de mejora que se puede obtener de Cython en comparación de Python, para esto se realizo una bateria de experimentos de 20 con el fin de evidenciar distintos datos y no quedarnos con solo un valor. \n",
        "\n",
        "* Se leen los datos mediante un .csv para realizar su respectivo analisis"
      ],
      "metadata": {
        "id": "0N4tDCLEzwBj"
      }
    },
    {
      "cell_type": "code",
      "execution_count": 15,
      "metadata": {
        "id": "mBaXq0PYqTR4"
      },
      "outputs": [],
      "source": [
        "df = pd.read_csv(\"/content/planeta.csv\")"
      ]
    },
    {
      "cell_type": "code",
      "source": [
        "df"
      ],
      "metadata": {
        "colab": {
          "base_uri": "https://localhost:8080/",
          "height": 677
        },
        "id": "pnZEeIofwMXC",
        "outputId": "1c94dfb6-ccf8-4d4a-f3e8-ace15e4a8fd7"
      },
      "execution_count": 16,
      "outputs": [
        {
          "output_type": "execute_result",
          "data": {
            "text/plain": [
              "     Python   Cython    Mejora\n",
              "0   1.82758  0.11990  15.24210\n",
              "1   1.81106  0.10219  17.72180\n",
              "2   1.81390  0.10317  17.58120\n",
              "3   1.81326  0.10300  17.60480\n",
              "4   1.81679  0.10308  17.62590\n",
              "5   1.83676  0.10351  17.74460\n",
              "6   1.80498  0.10244  17.61970\n",
              "7   1.81075  0.10198  17.66180\n",
              "8   1.80081  0.10196  17.74020\n",
              "9   1.80934  0.10199  17.66840\n",
              "10  1.83337  0.10377  17.65900\n",
              "11  1.81808  0.10295  17.50640\n",
              "12  1.80529  0.10312  17.57380\n",
              "13  1.80811  0.10289  17.83770\n",
              "14  1.80914  0.10242  17.58120\n",
              "15  1.83476  0.10286  17.76610\n",
              "16  1.80563  0.10270  17.68160\n",
              "17  1.81598  0.10222  17.53185\n",
              "18  1.80457  0.10206  17.57380\n",
              "19  1.80834  0.10315  17.65900"
            ],
            "text/html": [
              "\n",
              "  <div id=\"df-b4d6f1fb-14f0-4c6b-9850-36d2751b70a8\">\n",
              "    <div class=\"colab-df-container\">\n",
              "      <div>\n",
              "<style scoped>\n",
              "    .dataframe tbody tr th:only-of-type {\n",
              "        vertical-align: middle;\n",
              "    }\n",
              "\n",
              "    .dataframe tbody tr th {\n",
              "        vertical-align: top;\n",
              "    }\n",
              "\n",
              "    .dataframe thead th {\n",
              "        text-align: right;\n",
              "    }\n",
              "</style>\n",
              "<table border=\"1\" class=\"dataframe\">\n",
              "  <thead>\n",
              "    <tr style=\"text-align: right;\">\n",
              "      <th></th>\n",
              "      <th>Python</th>\n",
              "      <th>Cython</th>\n",
              "      <th>Mejora</th>\n",
              "    </tr>\n",
              "  </thead>\n",
              "  <tbody>\n",
              "    <tr>\n",
              "      <th>0</th>\n",
              "      <td>1.82758</td>\n",
              "      <td>0.11990</td>\n",
              "      <td>15.24210</td>\n",
              "    </tr>\n",
              "    <tr>\n",
              "      <th>1</th>\n",
              "      <td>1.81106</td>\n",
              "      <td>0.10219</td>\n",
              "      <td>17.72180</td>\n",
              "    </tr>\n",
              "    <tr>\n",
              "      <th>2</th>\n",
              "      <td>1.81390</td>\n",
              "      <td>0.10317</td>\n",
              "      <td>17.58120</td>\n",
              "    </tr>\n",
              "    <tr>\n",
              "      <th>3</th>\n",
              "      <td>1.81326</td>\n",
              "      <td>0.10300</td>\n",
              "      <td>17.60480</td>\n",
              "    </tr>\n",
              "    <tr>\n",
              "      <th>4</th>\n",
              "      <td>1.81679</td>\n",
              "      <td>0.10308</td>\n",
              "      <td>17.62590</td>\n",
              "    </tr>\n",
              "    <tr>\n",
              "      <th>5</th>\n",
              "      <td>1.83676</td>\n",
              "      <td>0.10351</td>\n",
              "      <td>17.74460</td>\n",
              "    </tr>\n",
              "    <tr>\n",
              "      <th>6</th>\n",
              "      <td>1.80498</td>\n",
              "      <td>0.10244</td>\n",
              "      <td>17.61970</td>\n",
              "    </tr>\n",
              "    <tr>\n",
              "      <th>7</th>\n",
              "      <td>1.81075</td>\n",
              "      <td>0.10198</td>\n",
              "      <td>17.66180</td>\n",
              "    </tr>\n",
              "    <tr>\n",
              "      <th>8</th>\n",
              "      <td>1.80081</td>\n",
              "      <td>0.10196</td>\n",
              "      <td>17.74020</td>\n",
              "    </tr>\n",
              "    <tr>\n",
              "      <th>9</th>\n",
              "      <td>1.80934</td>\n",
              "      <td>0.10199</td>\n",
              "      <td>17.66840</td>\n",
              "    </tr>\n",
              "    <tr>\n",
              "      <th>10</th>\n",
              "      <td>1.83337</td>\n",
              "      <td>0.10377</td>\n",
              "      <td>17.65900</td>\n",
              "    </tr>\n",
              "    <tr>\n",
              "      <th>11</th>\n",
              "      <td>1.81808</td>\n",
              "      <td>0.10295</td>\n",
              "      <td>17.50640</td>\n",
              "    </tr>\n",
              "    <tr>\n",
              "      <th>12</th>\n",
              "      <td>1.80529</td>\n",
              "      <td>0.10312</td>\n",
              "      <td>17.57380</td>\n",
              "    </tr>\n",
              "    <tr>\n",
              "      <th>13</th>\n",
              "      <td>1.80811</td>\n",
              "      <td>0.10289</td>\n",
              "      <td>17.83770</td>\n",
              "    </tr>\n",
              "    <tr>\n",
              "      <th>14</th>\n",
              "      <td>1.80914</td>\n",
              "      <td>0.10242</td>\n",
              "      <td>17.58120</td>\n",
              "    </tr>\n",
              "    <tr>\n",
              "      <th>15</th>\n",
              "      <td>1.83476</td>\n",
              "      <td>0.10286</td>\n",
              "      <td>17.76610</td>\n",
              "    </tr>\n",
              "    <tr>\n",
              "      <th>16</th>\n",
              "      <td>1.80563</td>\n",
              "      <td>0.10270</td>\n",
              "      <td>17.68160</td>\n",
              "    </tr>\n",
              "    <tr>\n",
              "      <th>17</th>\n",
              "      <td>1.81598</td>\n",
              "      <td>0.10222</td>\n",
              "      <td>17.53185</td>\n",
              "    </tr>\n",
              "    <tr>\n",
              "      <th>18</th>\n",
              "      <td>1.80457</td>\n",
              "      <td>0.10206</td>\n",
              "      <td>17.57380</td>\n",
              "    </tr>\n",
              "    <tr>\n",
              "      <th>19</th>\n",
              "      <td>1.80834</td>\n",
              "      <td>0.10315</td>\n",
              "      <td>17.65900</td>\n",
              "    </tr>\n",
              "  </tbody>\n",
              "</table>\n",
              "</div>\n",
              "      <button class=\"colab-df-convert\" onclick=\"convertToInteractive('df-b4d6f1fb-14f0-4c6b-9850-36d2751b70a8')\"\n",
              "              title=\"Convert this dataframe to an interactive table.\"\n",
              "              style=\"display:none;\">\n",
              "        \n",
              "  <svg xmlns=\"http://www.w3.org/2000/svg\" height=\"24px\"viewBox=\"0 0 24 24\"\n",
              "       width=\"24px\">\n",
              "    <path d=\"M0 0h24v24H0V0z\" fill=\"none\"/>\n",
              "    <path d=\"M18.56 5.44l.94 2.06.94-2.06 2.06-.94-2.06-.94-.94-2.06-.94 2.06-2.06.94zm-11 1L8.5 8.5l.94-2.06 2.06-.94-2.06-.94L8.5 2.5l-.94 2.06-2.06.94zm10 10l.94 2.06.94-2.06 2.06-.94-2.06-.94-.94-2.06-.94 2.06-2.06.94z\"/><path d=\"M17.41 7.96l-1.37-1.37c-.4-.4-.92-.59-1.43-.59-.52 0-1.04.2-1.43.59L10.3 9.45l-7.72 7.72c-.78.78-.78 2.05 0 2.83L4 21.41c.39.39.9.59 1.41.59.51 0 1.02-.2 1.41-.59l7.78-7.78 2.81-2.81c.8-.78.8-2.07 0-2.86zM5.41 20L4 18.59l7.72-7.72 1.47 1.35L5.41 20z\"/>\n",
              "  </svg>\n",
              "      </button>\n",
              "      \n",
              "  <style>\n",
              "    .colab-df-container {\n",
              "      display:flex;\n",
              "      flex-wrap:wrap;\n",
              "      gap: 12px;\n",
              "    }\n",
              "\n",
              "    .colab-df-convert {\n",
              "      background-color: #E8F0FE;\n",
              "      border: none;\n",
              "      border-radius: 50%;\n",
              "      cursor: pointer;\n",
              "      display: none;\n",
              "      fill: #1967D2;\n",
              "      height: 32px;\n",
              "      padding: 0 0 0 0;\n",
              "      width: 32px;\n",
              "    }\n",
              "\n",
              "    .colab-df-convert:hover {\n",
              "      background-color: #E2EBFA;\n",
              "      box-shadow: 0px 1px 2px rgba(60, 64, 67, 0.3), 0px 1px 3px 1px rgba(60, 64, 67, 0.15);\n",
              "      fill: #174EA6;\n",
              "    }\n",
              "\n",
              "    [theme=dark] .colab-df-convert {\n",
              "      background-color: #3B4455;\n",
              "      fill: #D2E3FC;\n",
              "    }\n",
              "\n",
              "    [theme=dark] .colab-df-convert:hover {\n",
              "      background-color: #434B5C;\n",
              "      box-shadow: 0px 1px 3px 1px rgba(0, 0, 0, 0.15);\n",
              "      filter: drop-shadow(0px 1px 2px rgba(0, 0, 0, 0.3));\n",
              "      fill: #FFFFFF;\n",
              "    }\n",
              "  </style>\n",
              "\n",
              "      <script>\n",
              "        const buttonEl =\n",
              "          document.querySelector('#df-b4d6f1fb-14f0-4c6b-9850-36d2751b70a8 button.colab-df-convert');\n",
              "        buttonEl.style.display =\n",
              "          google.colab.kernel.accessAllowed ? 'block' : 'none';\n",
              "\n",
              "        async function convertToInteractive(key) {\n",
              "          const element = document.querySelector('#df-b4d6f1fb-14f0-4c6b-9850-36d2751b70a8');\n",
              "          const dataTable =\n",
              "            await google.colab.kernel.invokeFunction('convertToInteractive',\n",
              "                                                     [key], {});\n",
              "          if (!dataTable) return;\n",
              "\n",
              "          const docLinkHtml = 'Like what you see? Visit the ' +\n",
              "            '<a target=\"_blank\" href=https://colab.research.google.com/notebooks/data_table.ipynb>data table notebook</a>'\n",
              "            + ' to learn more about interactive tables.';\n",
              "          element.innerHTML = '';\n",
              "          dataTable['output_type'] = 'display_data';\n",
              "          await google.colab.output.renderOutput(dataTable, element);\n",
              "          const docLink = document.createElement('div');\n",
              "          docLink.innerHTML = docLinkHtml;\n",
              "          element.appendChild(docLink);\n",
              "        }\n",
              "      </script>\n",
              "    </div>\n",
              "  </div>\n",
              "  "
            ]
          },
          "metadata": {},
          "execution_count": 16
        }
      ]
    },
    {
      "cell_type": "code",
      "source": [
        "df.info()"
      ],
      "metadata": {
        "colab": {
          "base_uri": "https://localhost:8080/"
        },
        "id": "3AHcpB5_zg28",
        "outputId": "62964bda-a300-4c7f-d467-a666398140ef"
      },
      "execution_count": 39,
      "outputs": [
        {
          "output_type": "stream",
          "name": "stdout",
          "text": [
            "<class 'pandas.core.frame.DataFrame'>\n",
            "RangeIndex: 20 entries, 0 to 19\n",
            "Data columns (total 3 columns):\n",
            " #   Column  Non-Null Count  Dtype  \n",
            "---  ------  --------------  -----  \n",
            " 0   Python  20 non-null     float64\n",
            " 1   Cython  20 non-null     float64\n",
            " 2   Mejora  20 non-null     float64\n",
            "dtypes: float64(3)\n",
            "memory usage: 608.0 bytes\n"
          ]
        }
      ]
    },
    {
      "cell_type": "markdown",
      "source": [
        "#Segunda Parte\n",
        "* Para realizar un mejor analisis de los resultados se opto por sacar la media </FONT>\n",
        "13\n",
        "</p>al tiempo por cad auno de los lenguajes, es decir, el promedio de tiempo para Python, otro para Cython y al final tiempo promedio para la mejora respectiva de Cython sobre Python."
      ],
      "metadata": {
        "id": "8TNwvJ2K2woB"
      }
    },
    {
      "cell_type": "code",
      "source": [
        "promP=df[\"Python\"].mean()\n",
        "print(\"El tiempo promedio de Python es: \", promP)"
      ],
      "metadata": {
        "colab": {
          "base_uri": "https://localhost:8080/"
        },
        "id": "b59LtX2qwxbE",
        "outputId": "bee3332c-e04d-435a-af80-53defed8bf99"
      },
      "execution_count": 17,
      "outputs": [
        {
          "output_type": "stream",
          "name": "stdout",
          "text": [
            "El tiempo promedio de Python es:  1.814425\n"
          ]
        }
      ]
    },
    {
      "cell_type": "code",
      "source": [
        "promC=df[\"Cython\"].mean()\n",
        "print(\"El tiempo promedio de Python es: \", promC)"
      ],
      "metadata": {
        "colab": {
          "base_uri": "https://localhost:8080/"
        },
        "id": "oKGyXYAqxQuj",
        "outputId": "cdc261c7-2e58-455c-e819-55d00e0867b4"
      },
      "execution_count": 19,
      "outputs": [
        {
          "output_type": "stream",
          "name": "stdout",
          "text": [
            "El tiempo promedio de Python es:  0.103568\n"
          ]
        }
      ]
    },
    {
      "cell_type": "code",
      "source": [
        "promM=df[\"Mejora\"].mean()\n",
        "print(\"El tiempo promedio de Python es: \", promM)"
      ],
      "metadata": {
        "colab": {
          "base_uri": "https://localhost:8080/"
        },
        "id": "3azvRnPPxxO3",
        "outputId": "c32868c4-3d4c-4e8b-b275-a5f377be54bb"
      },
      "execution_count": 20,
      "outputs": [
        {
          "output_type": "stream",
          "name": "stdout",
          "text": [
            "El tiempo promedio de Python es:  17.529047500000004\n"
          ]
        }
      ]
    },
    {
      "cell_type": "markdown",
      "source": [
        "#Tercera Parte\n",
        "* Para observar mejor la compartiva entre los tiempos obtenidos por cada uno de los lenguajes se obto por realizar una grafica de barras, donde es posible apreciar una diferencia significativa entre ambos lenguajes siendo Cython muy superior en rendimiento a comparación de Python, con un promedio de casi 17.5290 veces superior sobre este ultimo."
      ],
      "metadata": {
        "id": "4ye-BTQu3bzw"
      }
    },
    {
      "cell_type": "code",
      "source": [
        "X = np.arange(len(df.columns)-1)\n",
        "plt.bar(X-0.02, df[[\"Python\", \"Cython\"]].mean(), 0.4, alpha=0.8)\n",
        "plt.title(\"Comparativa Python vs Cython\")\n",
        "plt.xlabel(\"Lenguajes de Programación\")\n",
        "plt.ylabel(\"Tiempo (s)\")\n",
        "plt.xticks(X,[\"Python\", \"Cython\"])\n",
        "plt.show()\n"
      ],
      "metadata": {
        "colab": {
          "base_uri": "https://localhost:8080/",
          "height": 296
        },
        "id": "eowgtOdkx-yE",
        "outputId": "dbd50373-21e8-40f3-8353-b6a2f6442f65"
      },
      "execution_count": 46,
      "outputs": [
        {
          "output_type": "display_data",
          "data": {
            "text/plain": [
              "<Figure size 432x288 with 1 Axes>"
            ],
            "image/png": "[encoded data removed]"
          },
          "metadata": {
            "needs_background": "light"
          }
        }
      ]
    },
    {
      "cell_type": "markdown",
      "source": [
        "#Cuarta Parte\n",
        "* El comportamiento de tiempo es fundamental a la hora de analizar los datos obtenidos, por eso se obto por realizar una grafica por separado para cada uno de los lenguajes con el fin de analizar mejor los resultados.\n",
        "\n",
        "\n"
      ],
      "metadata": {
        "id": "H9HdHmUp52Rj"
      }
    },
    {
      "cell_type": "code",
      "source": [
        "plt.plot(df[\"Cython\"])"
      ],
      "metadata": {
        "colab": {
          "base_uri": "https://localhost:8080/",
          "height": 282
        },
        "id": "Ny99Jl1E1Mdd",
        "outputId": "cc36bbb7-2c7a-4e68-ece1-1480bc7cb1bf"
      },
      "execution_count": 48,
      "outputs": [
        {
          "output_type": "execute_result",
          "data": {
            "text/plain": [
              "[<matplotlib.lines.Line2D at 0x7f27264cbdd0>]"
            ]
          },
          "metadata": {},
          "execution_count": 48
        },
        {
          "output_type": "display_data",
          "data": {
            "text/plain": [
              "<Figure size 432x288 with 1 Axes>"
            ],
            "image/png": "[encoded data removed]"
          },
          "metadata": {
            "needs_background": "light"
          }
        }
      ]
    },
    {
      "cell_type": "markdown",
      "source": [
        "1. Para la grafica de Cython se obtuvieron valores muy bajos en tiempo con un comportamiento regular que no varia mucho y con un rango bajo."
      ],
      "metadata": {
        "id": "jiw-AY4B6cLb"
      }
    },
    {
      "cell_type": "code",
      "source": [
        "plt.plot(df[\"Python\"], color='orange')"
      ],
      "metadata": {
        "colab": {
          "base_uri": "https://localhost:8080/",
          "height": 282
        },
        "id": "1EPBswVuzAQX",
        "outputId": "5883f498-8407-4f2c-f613-e47986f4c717"
      },
      "execution_count": 51,
      "outputs": [
        {
          "output_type": "execute_result",
          "data": {
            "text/plain": [
              "[<matplotlib.lines.Line2D at 0x7f272612c2d0>]"
            ]
          },
          "metadata": {},
          "execution_count": 51
        },
        {
          "output_type": "display_data",
          "data": {
            "text/plain": [
              "<Figure size 432x288 with 1 Axes>"
            ],
            "image/png": "[encoded data removed]"
          },
          "metadata": {
            "needs_background": "light"
          }
        }
      ]
    },
    {
      "cell_type": "markdown",
      "source": [
        "2. Para la grafica de Python en comparación a la de Cython el comportamiendo de los datos (tiempo) varia mucho, tendiendo a subir y bajar exajeradamente."
      ],
      "metadata": {
        "id": "BXC5uBD96Wuc"
      }
    },
    {
      "cell_type": "code",
      "source": [
        "plt.plot(df[\"Mejora\"], color='purple')"
      ],
      "metadata": {
        "colab": {
          "base_uri": "https://localhost:8080/",
          "height": 282
        },
        "id": "PR6zljmP4lsV",
        "outputId": "00db61e8-0491-48db-fd93-4d80d9f9c687"
      },
      "execution_count": 52,
      "outputs": [
        {
          "output_type": "execute_result",
          "data": {
            "text/plain": [
              "[<matplotlib.lines.Line2D at 0x7f2726536490>]"
            ]
          },
          "metadata": {},
          "execution_count": 52
        },
        {
          "output_type": "display_data",
          "data": {
            "text/plain": [
              "<Figure size 432x288 with 1 Axes>"
            ],
            "image/png": "[encoded data removed]"
          },
          "metadata": {
            "needs_background": "light"
          }
        }
      ]
    },
    {
      "cell_type": "markdown",
      "source": [
        "3. Para la grafica de la mejor de Cython con respecto a Python se puede observar que la variación de los datos es estable, demostrando la superioridad de Cython"
      ],
      "metadata": {
        "id": "cahay3qR6wo6"
      }
    },
    {
      "cell_type": "markdown",
      "source": [
        "#Conclusiones"
      ],
      "metadata": {
        "id": "i_91nuur6-d3"
      }
    },
    {
      "cell_type": "markdown",
      "source": [
        "1. Durante la toma de rendimiento los tiempos varian significativamente, esto debido a los factores externos a la ejecución del programa, factores como tener navegadores en uso y otras aplicaciones abiertas mientras se ejecuta el programa, por eso es recomendable solo estar ejecutando el programa sin tener otras ventanas abiertas de otras aplicaciones para no afectar el rendimiento de este.\n",
        "\n",
        "2. Se evidencia por medio de las graficas elaboradas que el lenguaje de programación de Cython es muy superior a Python por lo que se recomendaria más el uso de este.\n"
      ],
      "metadata": {
        "id": "Dzorq2Ze7D4_"
      }
    }
  ]
}